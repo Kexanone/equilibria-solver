{
 "cells": [
  {
   "cell_type": "code",
   "execution_count": 1,
   "id": "eddc01db",
   "metadata": {},
   "outputs": [],
   "source": [
    "import sympy as sp\n",
    "from sympy.codegen.cfunctions import log10\n",
    "from IPython.display import display, Markdown"
   ]
  },
  {
   "cell_type": "code",
   "execution_count": 2,
   "id": "4b43d07d",
   "metadata": {},
   "outputs": [],
   "source": [
    "def eliminate(eqs, z):\n",
    "    \"\"\"return eqs with parameter z eliminated from each equation; the first\n",
    "    element in the returned list will be the definition of z that was used\n",
    "    to eliminate z from the other equations.\n",
    "\n",
    "    Examples\n",
    "    ========\n",
    "\n",
    "    >>> eqs = [Eq(2*x + 3*y + 4*z, 1),\n",
    "    ...        Eq(9*x + 8*y + 7*z, 2)]\n",
    "    >>> eliminate(eqs, z)\n",
    "    [Eq(z, -x/2 - 3*y/4 + 1/4), Eq(11*x/2 + 11*y/4 + 7/4, 2)]\n",
    "    >>> Eq(y,solve(_[1], y)[0])\n",
    "    Eq(y, -2*x + 1/11)\n",
    "    \"\"\"\n",
    "    from sympy.solvers.solveset import linsolve\n",
    "    Z = sp.Dummy()\n",
    "    rv = []\n",
    "    for i, e in enumerate(eqs):\n",
    "        if z not in e.free_symbols:\n",
    "            continue\n",
    "        e = e.subs(z, Z)\n",
    "        if z in e.free_symbols:\n",
    "            break\n",
    "        try:\n",
    "            s = linsolve([e], Z)\n",
    "            if s:\n",
    "                zi = list(s)[0][0]\n",
    "                rv.append(sp.Eq(z, zi))\n",
    "                rv.extend([eqs[j].subs(z, zi)\n",
    "                    for j in range(len(eqs)) if j != i])\n",
    "                return rv\n",
    "        except ValueError:\n",
    "            continue\n",
    "    raise ValueError('only a linear parameter can be eliminated')"
   ]
  },
  {
   "cell_type": "markdown",
   "id": "73a6cb9f",
   "metadata": {},
   "source": [
    "### Coupled Equilibria\n",
    "---\n",
    "$\\require{mhchem}$\n",
    "$\n",
    "\\ce{G <=> H_2A} \\\\\n",
    "\\ce{H_2A <=> H^+ + HA^-} \\\\\n",
    "\\ce{HA^- <=> H^+ + A^2-}\n",
    "$\n",
    "---\n",
    "$\n",
    "    \\rm\n",
    "    K_H = \\frac{[H_{2}A]}{p_G} \\\\\n",
    "    K_1 = \\frac{[H^+][HA^-]}{[H_{2}A]} \\\\\n",
    "    K_2 = \\frac{[H^+][A^{2-}]}{[H_{2}A]}\n",
    "$"
   ]
  },
  {
   "cell_type": "code",
   "execution_count": 3,
   "id": "d36fef57",
   "metadata": {},
   "outputs": [],
   "source": [
    "K_H, K_1, K_2 = sp.symbols('K_H K_1 K_2')\n",
    "n_H, c_1, c_2 = sp.symbols('n_H c_1 c_2')\n",
    "V_g, V_l, R, T = sp.symbols('V_g V_l R T')\n",
    "G, H2A, HA, A, H = sp.symbols('p_G [H_{2}A] [HA] [A] [H]')\n",
    "G_0, H2A_0, HA_0, A_0, H_0 = sp.symbols('p_{G0} [H_{2}A]_0 [HA^{-}]_0 [A^{2-}]_0 [H^{+}]_0')"
   ]
  },
  {
   "cell_type": "code",
   "execution_count": 4,
   "id": "1bc727dc",
   "metadata": {},
   "outputs": [],
   "source": [
    "# List of equilibria\n",
    "eqs = [\n",
    "    K_H * G - H2A,\n",
    "    K_1 * H2A - HA * H,\n",
    "    K_2 * HA - A * H\n",
    "]\n",
    "\n",
    "# List of changes\n",
    "chgs = {\n",
    "        G_0: G + n_H * R * T / V_g,\n",
    "        H2A: H2A_0 + n_H / V_l - c_1,\n",
    "        HA: HA_0 + c_1 - c_2,\n",
    "        A: A_0 + c_2,\n",
    "        H: H_0 + c_1 + c_2\n",
    "    }\n",
    "\n",
    "# Elimination and simplification\n",
    "eqs = [eq.subs(chgs) for eq in eqs]\n",
    "eqs = eliminate(eqs, n_H)\n",
    "eqs[1:] = eliminate(eqs[1:], c_1)\n",
    "# Multiply by divisor for numeric stability\n",
    "eqs[2] *= (A_0 - K_2 + c_2)**2\n",
    "eqs[2] = sp.simplify(eqs[2])"
   ]
  },
  {
   "cell_type": "code",
   "execution_count": 5,
   "id": "ffdc5574",
   "metadata": {},
   "outputs": [
    {
     "data": {
      "text/markdown": [
       "---\n",
       "### Solution for Changes\n",
       "---"
      ],
      "text/plain": [
       "<IPython.core.display.Markdown object>"
      ]
     },
     "metadata": {},
     "output_type": "display_data"
    },
    {
     "data": {
      "text/latex": [
       "$\\displaystyle n_{H} = K_{H} V_{l} p_{G} - V_{l} [H_{2}A]_0 + V_{l} c_{1}$"
      ],
      "text/plain": [
       "Eq(n_H, K_H*V_l*p_G - V_l*[H_{2}A]_0 + V_l*c_1)"
      ]
     },
     "metadata": {},
     "output_type": "display_data"
    },
    {
     "data": {
      "text/latex": [
       "$\\displaystyle c_{1} = \\frac{- K_{2} [HA^{-}]_0 + K_{2} c_{2} + [A^{2-}]_0 [H^{+}]_0 + [A^{2-}]_0 c_{2} + [H^{+}]_0 c_{2} + c_{2}^{2}}{K_{2} - [A^{2-}]_0 - c_{2}}$"
      ],
      "text/plain": [
       "Eq(c_1, (-K_2*[HA^{-}]_0 + K_2*c_2 + [A^{2-}]_0*[H^{+}]_0 + [A^{2-}]_0*c_2 + [H^{+}]_0*c_2 + c_2**2)/(K_2 - [A^{2-}]_0 - c_2))"
      ]
     },
     "metadata": {},
     "output_type": "display_data"
    },
    {
     "data": {
      "text/latex": [
       "$\\displaystyle K_{1} K_{H} p_{G} \\left(- K_{2} + [A^{2-}]_0 + c_{2}\\right)^{2} + \\left(- K_{2} [HA^{-}]_0 + K_{2} c_{2} + [A^{2-}]_0 [H^{+}]_0 + [A^{2-}]_0 c_{2} + [H^{+}]_0 c_{2} + c_{2}^{2} + \\left(- [HA^{-}]_0 + c_{2}\\right) \\left(- K_{2} + [A^{2-}]_0 + c_{2}\\right)\\right) \\left(K_{2} [HA^{-}]_0 - K_{2} c_{2} - [A^{2-}]_0 [H^{+}]_0 - [A^{2-}]_0 c_{2} - [H^{+}]_0 c_{2} - c_{2}^{2} + \\left([H^{+}]_0 + c_{2}\\right) \\left(- K_{2} + [A^{2-}]_0 + c_{2}\\right)\\right)$"
      ],
      "text/plain": [
       "K_1*K_H*p_G*(-K_2 + [A^{2-}]_0 + c_2)**2 + (-K_2*[HA^{-}]_0 + K_2*c_2 + [A^{2-}]_0*[H^{+}]_0 + [A^{2-}]_0*c_2 + [H^{+}]_0*c_2 + c_2**2 + (-[HA^{-}]_0 + c_2)*(-K_2 + [A^{2-}]_0 + c_2))*(K_2*[HA^{-}]_0 - K_2*c_2 - [A^{2-}]_0*[H^{+}]_0 - [A^{2-}]_0*c_2 - [H^{+}]_0*c_2 - c_2**2 + ([H^{+}]_0 + c_2)*(-K_2 + [A^{2-}]_0 + c_2))"
      ]
     },
     "metadata": {},
     "output_type": "display_data"
    },
    {
     "data": {
      "text/markdown": [
       "---\n",
       "### Solution for Equilibrium Concentrations\n",
       "---"
      ],
      "text/plain": [
       "<IPython.core.display.Markdown object>"
      ]
     },
     "metadata": {},
     "output_type": "display_data"
    },
    {
     "data": {
      "text/latex": [
       "$\\displaystyle p_{G0} = \\frac{R T n_{H}}{V_{g}} + p_{G}$"
      ],
      "text/plain": [
       "Eq(p_{G0}, R*T*n_H/V_g + p_G)"
      ]
     },
     "metadata": {},
     "output_type": "display_data"
    },
    {
     "data": {
      "text/latex": [
       "$\\displaystyle [H_{2}A] = [H_{2}A]_0 - c_{1} + \\frac{n_{H}}{V_{l}}$"
      ],
      "text/plain": [
       "Eq([H_{2}A], [H_{2}A]_0 - c_1 + n_H/V_l)"
      ]
     },
     "metadata": {},
     "output_type": "display_data"
    },
    {
     "data": {
      "text/latex": [
       "$\\displaystyle [HA] = [HA^{-}]_0 + c_{1} - c_{2}$"
      ],
      "text/plain": [
       "Eq([HA], [HA^{-}]_0 + c_1 - c_2)"
      ]
     },
     "metadata": {},
     "output_type": "display_data"
    },
    {
     "data": {
      "text/latex": [
       "$\\displaystyle [A] = [A^{2-}]_0 + c_{2}$"
      ],
      "text/plain": [
       "Eq([A], [A^{2-}]_0 + c_2)"
      ]
     },
     "metadata": {},
     "output_type": "display_data"
    },
    {
     "data": {
      "text/latex": [
       "$\\displaystyle [H] = [H^{+}]_0 + c_{1} + c_{2}$"
      ],
      "text/plain": [
       "Eq([H], [H^{+}]_0 + c_1 + c_2)"
      ]
     },
     "metadata": {},
     "output_type": "display_data"
    }
   ],
   "source": [
    "display(Markdown('---\\n### Solution for Changes\\n---'))\n",
    "for eq in eqs:\n",
    "    display(eq)\n",
    "display(Markdown('---\\n### Solution for Equilibrium Concentrations\\n---'))\n",
    "for var, chg in chgs.items():\n",
    "    display(sp.Eq(var, chg))"
   ]
  },
  {
   "cell_type": "code",
   "execution_count": 6,
   "id": "638ec9af",
   "metadata": {},
   "outputs": [
    {
     "data": {
      "text/plain": [
       "[6.76081816423000e-8, 6.76084134365235e-8, 69619.4679673774]"
      ]
     },
     "execution_count": 6,
     "metadata": {},
     "output_type": "execute_result"
    }
   ],
   "source": [
    "# Specify conditions\n",
    "params = {\n",
    "    K_H: 1.2e-5, # M / Pa\n",
    "    K_1: 10**-1.81, # M\n",
    "    K_2: 10**-7.17, # M\n",
    "    R: 8314.46261815324, # (N * L) / (mol * m^2 * K)\n",
    "    T: 298.15, # K\n",
    "    V_g: 1000, # L\n",
    "    V_l: 1, # L\n",
    "    G: 1.013e5, # Pa\n",
    "    H2A_0: 0, # M\n",
    "    HA_0: 0, # M\n",
    "    A_0: 0, # M\n",
    "    H_0: 1e-7 # M\n",
    "}\n",
    "# Select solution of cubic equation (eqs[2])\n",
    "solution_index = 0\n",
    "\n",
    "# Solve cubic equation\n",
    "c_2_sol = [sp.re(sol) for sol in sp.solve(eqs[2].subs(params))]\n",
    "c_2_sol"
   ]
  },
  {
   "cell_type": "code",
   "execution_count": 7,
   "id": "412cc8a2",
   "metadata": {},
   "outputs": [
    {
     "name": "stdout",
     "output_type": "stream",
     "text": [
      "G_0 = 104653.565239496 Pa\n",
      "H2A = 1.21560000000000 M\n",
      "HA = 0.137212909563224 M\n",
      "A = 6.76081816423000e-8 M\n",
      "pH = 0.862604281983567\n"
     ]
    }
   ],
   "source": [
    "# Get solutions\n",
    "params.update(c_2=c_2_sol[solution_index])\n",
    "params.update(c_1=sp.solve(eqs[1].subs(params))[0])\n",
    "params.update(n_H=sp.solve(eqs[0].subs(params))[0])\n",
    "\n",
    "print('G_0 =', chgs[G_0].subs(params), 'Pa')\n",
    "print('H2A =', chgs[H2A].subs(params), 'M')\n",
    "print('HA =', chgs[HA].subs(params), 'M')\n",
    "print('A =', chgs[A].subs(params), 'M')\n",
    "print('pH =', -log10(float(chgs[H].subs(params))))"
   ]
  },
  {
   "cell_type": "code",
   "execution_count": null,
   "id": "d28cb09c",
   "metadata": {},
   "outputs": [],
   "source": []
  }
 ],
 "metadata": {
  "kernelspec": {
   "display_name": "Python 3",
   "language": "python",
   "name": "python3"
  },
  "language_info": {
   "codemirror_mode": {
    "name": "ipython",
    "version": 3
   },
   "file_extension": ".py",
   "mimetype": "text/x-python",
   "name": "python",
   "nbconvert_exporter": "python",
   "pygments_lexer": "ipython3",
   "version": "3.8.8"
  }
 },
 "nbformat": 4,
 "nbformat_minor": 5
}
